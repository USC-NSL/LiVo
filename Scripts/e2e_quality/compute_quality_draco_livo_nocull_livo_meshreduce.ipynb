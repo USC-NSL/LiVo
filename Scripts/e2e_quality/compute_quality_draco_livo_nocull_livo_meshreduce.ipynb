{
 "cells": [
  {
   "cell_type": "code",
   "execution_count": 478,
   "metadata": {},
   "outputs": [],
   "source": [
    "import numpy as np\n",
    "import pandas as pd\n",
    "import matplotlib.pyplot as plt\n",
    "import os\n",
    "import json\n",
    "\n",
    "%matplotlib inline"
   ]
  },
  {
   "cell_type": "code",
   "execution_count": 479,
   "metadata": {},
   "outputs": [],
   "source": [
    "###### 160906_band2 ########\n",
    "# START_FRAME = 2\n",
    "# END_FRAME = 5517\n",
    "# SEQ_NAME = \"160906_band2_with_ground\"\n",
    "# CONFIG_FILE = (\n",
    "#     \"/home/lei/rajrup/KinectStream/Multiview/config/panoptic_160906_band2.json\"\n",
    "# )\n",
    "\n",
    "####### 170307_dance5 ########\n",
    "# START_FRAME = 34\n",
    "# END_FRAME = 10000\n",
    "# SEQ_NAME = \"170307_dance5_with_ground\"\n",
    "# CONFIG_FILE = (\n",
    "#     \"/home/lei/rajrup/KinectStream/Multiview/config/panoptic_170307_dance5.json\"\n",
    "# )\n",
    "\n",
    "####### 170915_office1 ########\n",
    "# START_FRAME = 19\n",
    "# END_FRAME = 5600\n",
    "# SEQ_NAME = \"170915_office1_with_ground\"\n",
    "# CONFIG_FILE = (\n",
    "#     \"/home/lei/rajrup/KinectStream/Multiview/config/panoptic_170915_office1.json\"\n",
    "# )\n",
    "\n",
    "####### 160906_pizza1 ########\n",
    "# START_FRAME = 1\n",
    "# END_FRAME = 1413\n",
    "# SEQ_NAME = \"160906_pizza1_with_ground\"\n",
    "# CONFIG_FILE = (\n",
    "#     \"/home/lei/rajrup/KinectStream/Multiview/config/panoptic_160906_pizza1.json\"\n",
    "# )\n",
    "\n",
    "####### 170915_toddler4 ########\n",
    "START_FRAME = 1\n",
    "END_FRAME = 3800\n",
    "SEQ_NAME = \"170915_toddler4_with_ground\"\n",
    "CONFIG_FILE = (\n",
    "    \"/home/lei/rajrup/KinectStream/Multiview/config/panoptic_170915_toddler4.json\"\n",
    ")\n",
    "\n",
    "with open(CONFIG_FILE) as f:\n",
    "    config_data = json.load(f)\n",
    "LOG_ID = config_data[\"log_id\"]"
   ]
  },
  {
   "cell_type": "code",
   "execution_count": null,
   "metadata": {},
   "outputs": [],
   "source": []
  },
  {
   "cell_type": "code",
   "execution_count": 480,
   "metadata": {},
   "outputs": [],
   "source": [
    "# mm_type = \"tracep1-scaled10.0\"\n",
    "mm_type = \"wifi-25-scaled15.0\"\n",
    "\n",
    "with_stalls = True\n",
    "# with_stalls = False"
   ]
  },
  {
   "cell_type": "code",
   "execution_count": 481,
   "metadata": {},
   "outputs": [],
   "source": [
    "def calc_avg_pssim(\n",
    "    df, start_frame, end_frame, offset_start=200, offset_end=50, with_stalls=True\n",
    "):\n",
    "    df = df.copy()\n",
    "    df = df[df[\"Frame\"] <= end_frame - offset_end]\n",
    "    df = df[df[\"Frame\"] >= start_frame + offset_start]\n",
    "\n",
    "    pssim_geo = df[\"PSSIM_GEO_AB\"].values\n",
    "    pssim_color = df[\"PSSIM_COLOR_AB\"].values\n",
    "\n",
    "    num_stalls = 0\n",
    "    num_render_frames = 0\n",
    "    for frame_id in range(start_frame + offset_start, end_frame - offset_end + 1):\n",
    "        if frame_id % 10 != 0:\n",
    "            continue\n",
    "\n",
    "        if frame_id in df[\"Frame\"].values:\n",
    "            num_render_frames += 1\n",
    "        else:\n",
    "            num_stalls += 1\n",
    "\n",
    "    if with_stalls:\n",
    "        num_frames = num_render_frames + num_stalls\n",
    "    else:\n",
    "        num_frames = num_render_frames\n",
    "\n",
    "    stall_percent = 100.0 * num_stalls / (num_render_frames + num_stalls)\n",
    "\n",
    "    avg_pssim_geo = np.sum(pssim_geo) / num_frames\n",
    "    avg_pssim_color = np.sum(pssim_color) / num_frames\n",
    "    return (\n",
    "        avg_pssim_geo,\n",
    "        avg_pssim_color,\n",
    "        num_stalls,\n",
    "        num_render_frames,\n",
    "        num_frames,\n",
    "        stall_percent,\n",
    "    )"
   ]
  },
  {
   "cell_type": "code",
   "execution_count": 482,
   "metadata": {},
   "outputs": [],
   "source": [
    "# DRACO\n",
    "\n",
    "pipeline_method = \"draco\"\n",
    "culling = \"s_pcull_c_cull\"\n",
    "\n",
    "pssim_file_path = f\"/datassd/pipeline_cpp/client_tiled/e2e_quality/{pipeline_method}/{SEQ_NAME}/{mm_type}/comp_o3d_pointssim_{culling}/log{LOG_ID}/3D_pssim.csv\"\n",
    "draco_pssim_df = pd.read_csv(pssim_file_path)\n",
    "\n",
    "# replace NaN with 0\n",
    "draco_pssim_df.fillna(0, inplace=True)\n",
    "\n",
    "# draco_pssim_df"
   ]
  },
  {
   "cell_type": "code",
   "execution_count": 483,
   "metadata": {},
   "outputs": [
    {
     "name": "stdout",
     "output_type": "stream",
     "text": [
      "Method:draco, avg_pssim_geo: 18.25298591549296, avg_pssim_color: 19.11374647887324, stall_percent:80.56338028169014%, num_stalls: 286, num_render_frames: 69, num_frames: 355\n"
     ]
    }
   ],
   "source": [
    "(\n",
    "    avg_pssim_geo,\n",
    "    avg_pssim_color,\n",
    "    num_stalls,\n",
    "    num_render_frames,\n",
    "    num_frames,\n",
    "    stall_percent,\n",
    ") = calc_avg_pssim(draco_pssim_df, START_FRAME, END_FRAME, with_stalls=with_stalls)\n",
    "print(\n",
    "    f\"Method:{pipeline_method}, avg_pssim_geo: {avg_pssim_geo}, avg_pssim_color: {avg_pssim_color}, stall_percent:{stall_percent}%, num_stalls: {num_stalls}, num_render_frames: {num_render_frames}, num_frames: {num_frames}\"\n",
    ")"
   ]
  },
  {
   "cell_type": "code",
   "execution_count": 484,
   "metadata": {},
   "outputs": [],
   "source": [
    "pipeline_method = \"livo_nocull\"\n",
    "culling = \"s_nocull_c_cull\"\n",
    "\n",
    "pssim_file_path = f\"/datassd/pipeline_cpp/client_tiled/e2e_quality/{pipeline_method}/{SEQ_NAME}/{mm_type}/comp_o3d_pointssim_{culling}/log{LOG_ID}/3D_pssim.csv\"\n",
    "livo_nocull_pssim_df = pd.read_csv(pssim_file_path)\n",
    "\n",
    "# replace NaN with 0\n",
    "livo_nocull_pssim_df.fillna(0, inplace=True)\n",
    "\n",
    "# livo_nocull_pssim_df"
   ]
  },
  {
   "cell_type": "code",
   "execution_count": 485,
   "metadata": {},
   "outputs": [
    {
     "name": "stdout",
     "output_type": "stream",
     "text": [
      "Method:livo_nocull, avg_pssim_geo: 78.344338028169, avg_pssim_color: 79.42095774647888, stall_percent:7.042253521126761%, num_stalls: 25, num_render_frames: 330, num_frames: 355\n"
     ]
    }
   ],
   "source": [
    "(\n",
    "    avg_pssim_geo,\n",
    "    avg_pssim_color,\n",
    "    num_stalls,\n",
    "    num_render_frames,\n",
    "    num_frames,\n",
    "    stall_percent,\n",
    ") = calc_avg_pssim(\n",
    "    livo_nocull_pssim_df, START_FRAME, END_FRAME, with_stalls=with_stalls\n",
    ")\n",
    "print(\n",
    "    f\"Method:{pipeline_method}, avg_pssim_geo: {avg_pssim_geo}, avg_pssim_color: {avg_pssim_color}, stall_percent:{stall_percent}%, num_stalls: {num_stalls}, num_render_frames: {num_render_frames}, num_frames: {num_frames}\"\n",
    ")"
   ]
  },
  {
   "cell_type": "code",
   "execution_count": 486,
   "metadata": {},
   "outputs": [],
   "source": [
    "pipeline_method = \"livo\"\n",
    "culling = \"s_kpcull10_c_cull\"\n",
    "\n",
    "pssim_file_path = f\"/datassd/pipeline_cpp/client_tiled/e2e_quality/{pipeline_method}/{SEQ_NAME}/{mm_type}/comp_o3d_pointssim_{culling}/log{LOG_ID}/3D_pssim.csv\"\n",
    "livo_pssim_df = pd.read_csv(pssim_file_path)\n",
    "\n",
    "# replace NaN with 0\n",
    "livo_pssim_df.fillna(0, inplace=True)\n",
    "\n",
    "# livo_pssim_df"
   ]
  },
  {
   "cell_type": "code",
   "execution_count": 487,
   "metadata": {},
   "outputs": [
    {
     "name": "stdout",
     "output_type": "stream",
     "text": [
      "Method:livo, avg_pssim_geo: 88.1187323943662, avg_pssim_color: 85.36515492957747, stall_percent:1.1267605633802817%,  num_stalls: 4, num_render_frames: 351, num_frames: 355\n"
     ]
    }
   ],
   "source": [
    "(\n",
    "    avg_pssim_geo,\n",
    "    avg_pssim_color,\n",
    "    num_stalls,\n",
    "    num_render_frames,\n",
    "    num_frames,\n",
    "    stall_percent,\n",
    ") = calc_avg_pssim(livo_pssim_df, START_FRAME, END_FRAME, with_stalls=with_stalls)\n",
    "print(\n",
    "    f\"Method:{pipeline_method}, avg_pssim_geo: {avg_pssim_geo}, avg_pssim_color: {avg_pssim_color}, stall_percent:{stall_percent}%,  num_stalls: {num_stalls}, num_render_frames: {num_render_frames}, num_frames: {num_frames}\"\n",
    ")"
   ]
  },
  {
   "cell_type": "code",
   "execution_count": 488,
   "metadata": {},
   "outputs": [],
   "source": [
    "pipeline_method = \"starline\"\n",
    "culling = \"s_nocull_c_cull\"\n",
    "\n",
    "pssim_file_path = f\"/datassd/pipeline_cpp/client_tiled/e2e_quality/{pipeline_method}/{SEQ_NAME}/{mm_type}/comp_o3d_pointssim_{culling}/log{LOG_ID}/3D_pssim.csv\"\n",
    "starline_only_pssim_df = pd.read_csv(pssim_file_path)\n",
    "\n",
    "# replace NaN with 0\n",
    "starline_only_pssim_df.fillna(0, inplace=True)\n",
    "\n",
    "# starline_only_pssim_df"
   ]
  },
  {
   "cell_type": "code",
   "execution_count": 489,
   "metadata": {},
   "outputs": [
    {
     "name": "stdout",
     "output_type": "stream",
     "text": [
      "Method:starline, avg_pssim_geo: 31.561352112676058, avg_pssim_color: 32.77352112676056, stall_percent:61.690140845070424%,  num_stalls: 219, num_render_frames: 136, num_frames: 355\n"
     ]
    }
   ],
   "source": [
    "(\n",
    "    avg_pssim_geo,\n",
    "    avg_pssim_color,\n",
    "    num_stalls,\n",
    "    num_render_frames,\n",
    "    num_frames,\n",
    "    stall_percent,\n",
    ") = calc_avg_pssim(\n",
    "    starline_only_pssim_df, START_FRAME, END_FRAME, with_stalls=with_stalls\n",
    ")\n",
    "print(\n",
    "    f\"Method:{pipeline_method}, avg_pssim_geo: {avg_pssim_geo}, avg_pssim_color: {avg_pssim_color}, stall_percent:{stall_percent}%,  num_stalls: {num_stalls}, num_render_frames: {num_render_frames}, num_frames: {num_frames}\"\n",
    ")"
   ]
  },
  {
   "cell_type": "code",
   "execution_count": 490,
   "metadata": {},
   "outputs": [],
   "source": [
    "pipeline_method = \"meshreduce\"\n",
    "culling = \"s_nocull_c_nocull\"\n",
    "\n",
    "pssim_file_path = f\"/hdd/pipeline_meshreduce/e2e_quality/mesh_to_ptcl/{SEQ_NAME}/{mm_type}/comp_draco_pointssim_{culling}/3D_pssim.csv\"\n",
    "meshreduce_only_pssim_df = pd.read_csv(pssim_file_path)\n",
    "\n",
    "# replace NaN with 0\n",
    "meshreduce_only_pssim_df.fillna(0, inplace=True)\n",
    "\n",
    "# meshreduce_only_pssim_df"
   ]
  },
  {
   "cell_type": "code",
   "execution_count": 491,
   "metadata": {},
   "outputs": [
    {
     "name": "stdout",
     "output_type": "stream",
     "text": [
      "Method:meshreduce, avg_pssim_geo: 54.183239436619715, avg_pssim_color: 68.02825352112676, stall_percent:19.43661971830986%,  num_stalls: 69, num_render_frames: 286, num_frames: 355\n"
     ]
    }
   ],
   "source": [
    "(\n",
    "    avg_pssim_geo,\n",
    "    avg_pssim_color,\n",
    "    num_stalls,\n",
    "    num_render_frames,\n",
    "    num_frames,\n",
    "    stall_percent,\n",
    ") = calc_avg_pssim(\n",
    "    meshreduce_only_pssim_df, START_FRAME, END_FRAME, with_stalls=with_stalls\n",
    ")\n",
    "print(\n",
    "    f\"Method:{pipeline_method}, avg_pssim_geo: {avg_pssim_geo}, avg_pssim_color: {avg_pssim_color}, stall_percent:{stall_percent}%,  num_stalls: {num_stalls}, num_render_frames: {num_render_frames}, num_frames: {num_frames}\"\n",
    ")"
   ]
  },
  {
   "cell_type": "code",
   "execution_count": null,
   "metadata": {},
   "outputs": [],
   "source": []
  }
 ],
 "metadata": {
  "kernelspec": {
   "display_name": "KinectStream",
   "language": "python",
   "name": "python3"
  },
  "language_info": {
   "codemirror_mode": {
    "name": "ipython",
    "version": 3
   },
   "file_extension": ".py",
   "mimetype": "text/x-python",
   "name": "python",
   "nbconvert_exporter": "python",
   "pygments_lexer": "ipython3",
   "version": "3.8.13"
  }
 },
 "nbformat": 4,
 "nbformat_minor": 2
}
