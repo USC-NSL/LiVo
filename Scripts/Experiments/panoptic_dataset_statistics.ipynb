{
 "cells": [
  {
   "cell_type": "code",
   "execution_count": 4,
   "metadata": {},
   "outputs": [],
   "source": [
    "import numpy as np\n",
    "import pandas as pd\n",
    "import os\n",
    "import matplotlib.pyplot as plt\n",
    "\n",
    "%matplotlib inline"
   ]
  },
  {
   "cell_type": "code",
   "execution_count": 3,
   "metadata": {},
   "outputs": [],
   "source": [
    "path = \"/datassd/pipeline/server_tiled/pipeline_new/output/frustum_size/\"\n",
    "seq_names = [\"160906_band2\", \"170307_dance5\", \"170915_office1\", \"160906_pizza1\", \"170915_toddler4\"]"
   ]
  },
  {
   "cell_type": "code",
   "execution_count": 8,
   "metadata": {},
   "outputs": [
    {
     "name": "stdout",
     "output_type": "stream",
     "text": [
      "-----------------------------------------\n",
      "Seq Name: 160906_band2\n",
      "Frustum Points - Mean:  401592\n",
      "Frustum Points - Std:  108433\n",
      "Total Points - Mean:  741256\n",
      "Total Points - Std:  1770\n",
      "-----------------------------------------\n",
      "Seq Name: 170307_dance5\n",
      "Frustum Points - Mean:  212713\n",
      "Frustum Points - Std:  96237\n",
      "Total Points - Mean:  725275\n",
      "Total Points - Std:  10868\n",
      "-----------------------------------------\n",
      "Seq Name: 170915_office1\n",
      "Frustum Points - Mean:  322547\n",
      "Frustum Points - Std:  69082\n",
      "Total Points - Mean:  704825\n",
      "Total Points - Std:  9179\n",
      "-----------------------------------------\n",
      "Seq Name: 160906_pizza1\n",
      "Frustum Points - Mean:  299002\n",
      "Frustum Points - Std:  107432\n",
      "Total Points - Mean:  918030\n",
      "Total Points - Std:  27668\n",
      "-----------------------------------------\n",
      "Seq Name: 170915_toddler4\n",
      "Frustum Points - Mean:  377478\n",
      "Frustum Points - Std:  101894\n",
      "Total Points - Mean:  707043\n",
      "Total Points - Std:  2220\n"
     ]
    }
   ],
   "source": [
    "for seq_name in seq_names:\n",
    "    df = pd.read_csv(os.path.join(path, f\"frustum_size_pcull_{seq_name}.txt\"))\n",
    "    print(\"-----------------------------------------\")\n",
    "    print(\"Seq Name:\", seq_name)\n",
    "    print(\"Frustum Points - Mean: \", int(df[\"FrustumSize\"].mean()))\n",
    "    print(\"Frustum Points - Std: \", int(df[\"FrustumSize\"].std()))\n",
    "    print(\"Total Points - Mean: \", int(df[\"WithoutFrustumSize\"].mean()))\n",
    "    print(\"Total Points - Std: \", int(df[\"WithoutFrustumSize\"].std()))"
   ]
  },
  {
   "cell_type": "code",
   "execution_count": null,
   "metadata": {},
   "outputs": [],
   "source": []
  }
 ],
 "metadata": {
  "kernelspec": {
   "display_name": "KinectStream",
   "language": "python",
   "name": "python3"
  },
  "language_info": {
   "codemirror_mode": {
    "name": "ipython",
    "version": 3
   },
   "file_extension": ".py",
   "mimetype": "text/x-python",
   "name": "python",
   "nbconvert_exporter": "python",
   "pygments_lexer": "ipython3",
   "version": "3.8.16"
  }
 },
 "nbformat": 4,
 "nbformat_minor": 2
}
