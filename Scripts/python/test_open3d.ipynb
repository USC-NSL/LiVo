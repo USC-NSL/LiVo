{
 "cells": [
  {
   "cell_type": "code",
   "execution_count": 9,
   "metadata": {},
   "outputs": [],
   "source": [
    "import open3d as o3d\n",
    "import numpy as np"
   ]
  },
  {
   "cell_type": "code",
   "execution_count": 12,
   "metadata": {},
   "outputs": [],
   "source": [
    "ptcl = o3d.io.read_point_cloud(\"/datassd/pipeline_ptcl/client_ptcl/160317_moonbaby1_with_ground/o3d_ptcl_draco_wo_cull/1000_draco_cl0_qp1.ply\")"
   ]
  },
  {
   "cell_type": "code",
   "execution_count": 13,
   "metadata": {},
   "outputs": [
    {
     "data": {
      "text/plain": [
       "array([[-2.48998523,  1.85632372,  2.50410247],\n",
       "       [-2.48998523,  1.85632372,  2.50410247],\n",
       "       [-2.48998523,  1.85632372,  2.50410247],\n",
       "       ...,\n",
       "       [ 2.51362777,  1.85632372,  2.50410247],\n",
       "       [ 2.51362777,  1.85632372,  2.50410247],\n",
       "       [ 2.51362777,  1.85632372,  2.50410247]])"
      ]
     },
     "execution_count": 13,
     "metadata": {},
     "output_type": "execute_result"
    }
   ],
   "source": [
    "np.asarray(ptcl.points)"
   ]
  },
  {
   "cell_type": "code",
   "execution_count": null,
   "metadata": {},
   "outputs": [],
   "source": []
  }
 ],
 "metadata": {
  "kernelspec": {
   "display_name": "o3d",
   "language": "python",
   "name": "python3"
  },
  "language_info": {
   "codemirror_mode": {
    "name": "ipython",
    "version": 3
   },
   "file_extension": ".py",
   "mimetype": "text/x-python",
   "name": "python",
   "nbconvert_exporter": "python",
   "pygments_lexer": "ipython3",
   "version": "3.8.19"
  }
 },
 "nbformat": 4,
 "nbformat_minor": 2
}
