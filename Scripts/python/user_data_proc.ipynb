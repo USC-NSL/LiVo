{
 "cells": [
  {
   "cell_type": "code",
   "execution_count": null,
   "metadata": {},
   "outputs": [],
   "source": [
    "import numpy as np\n",
    "import os\n",
    "import pandas as pd\n",
    "import seaborn as sns\n",
    "import matplotlib.pyplot as plt\n",
    "%matplotlib inline"
   ]
  },
  {
   "cell_type": "code",
   "execution_count": null,
   "metadata": {},
   "outputs": [],
   "source": [
    "work_dir = \"/data/Dropbox/Project/VolumetricVideo/KinectStream\"\n",
    "video_name = \"170915_toddler4\"\n",
    "data_dir = os.path.join(work_dir, \"data\", \"user_log\", video_name)\n",
    "kalman_dir = os.path.join(work_dir, \"data\", \"predicted_data\", video_name)\n",
    "logID = 0\n",
    "\n",
    "# Load data \n",
    "# To Do: Change header\n",
    "data = pd.read_csv(os.path.join(data_dir, 'camera_log{}.txt'.format(logID)), sep=':|,', \n",
    "                   header=None, engine='python')\n",
    "data = data.iloc[:, :7]\n",
    "data.columns = [\"t\", \"x\", \"y\", \"z\", \"roll\", \"pitch\", \"yaw\"]\n",
    "data = data.loc[1:, ['t', 'x', 'y', 'z', 'roll', 'pitch', 'yaw']]\n",
    "data['t'] = (data['t'] - data['t'].iloc[0])/1000.0\n",
    "\n",
    "data_ = pd.read_csv(os.path.join(kalman_dir, 'camera_log{}_kalman.txt'.format(logID)), sep=':|,', \n",
    "                   header=None, engine='python')\n",
    "data_ = data_.iloc[:, :7]\n",
    "data_.columns = [\"t\", \"x\", \"y\", \"z\", \"roll\", \"pitch\", \"yaw\"]\n",
    "data_ = data_.loc[1:, ['t', 'x', 'y', 'z', 'roll', 'pitch', 'yaw']]\n",
    "data_['t'] = (data_['t'] - data_['t'].iloc[0])/1000.0\n",
    "data_"
   ]
  },
  {
   "cell_type": "code",
   "execution_count": null,
   "metadata": {},
   "outputs": [],
   "source": [
    "palette = sns.color_palette(\"Paired\", 6)\n",
    "sns.set(rc={'figure.figsize':(20, 10)})\n",
    "data_plot=pd.DataFrame(\n",
    "                    {'time':data.t,\n",
    "                    'x':data.x,\"x**\":data_.x,\n",
    "                    'y':data.y,\"y**\":data_.y,\n",
    "                    'z':data.z,\"z**\":data_.z})\n",
    "ax = sns.lineplot(x='time', y='value', hue='variable', \n",
    "             data=pd.melt(data_plot, ['time']), palette=palette)\n",
    "\n",
    "# ax = sns.lineplot(x=\"t\", y=\"x\", data=data_x, legend='brief', label='x', color = 'orange')\n",
    "# data_y=pd.DataFrame({'time':data.t,'y':data.y,\"y'\":data_.y})\n",
    "# sns.lineplot(x='time', y='value', hue='variable', \n",
    "#              data=pd.melt(data_y, ['time']), color=palette[1])\n",
    "# sns.lineplot(x=\"t\", y=\"y\", data=data, legend='brief', label='y', color = 'green')\n",
    "# sns.lineplot(x=\"t\", y=\"z\", data=data, legend='brief', label='z')\n",
    "\n",
    "# sns.lineplot(x=\"t\", y=\"x\", data=data_, legend='brief', label=\"x'\", color = 'red')\n",
    "# sns.lineplot(x=\"t\", y=\"y\", data=data_, legend='brief', label=\"y'\", color = 'deepgreen')\n",
    "# sns.lineplot(x=\"t\", y=\"z\", data=data_, legend='brief', label=\"z'\")\n",
    "\n",
    "ax.set(xlabel='Timestamp (s)', ylabel='Position (m)')\n",
    "plt.show()"
   ]
  },
  {
   "cell_type": "code",
   "execution_count": null,
   "metadata": {},
   "outputs": [],
   "source": [
    "palette = sns.color_palette(\"Paired\", 6)\n",
    "sns.set(rc={'figure.figsize':(20, 10)})\n",
    "data_plot=pd.DataFrame(\n",
    "                    {'time':data.t,\n",
    "                    'roll':data.roll,\"roll**\":data_.roll,\n",
    "                    'pitch':data.pitch,\"pitch**\":data_.pitch,\n",
    "                    'yaw':data.yaw,\"yaw**\":data_.yaw})\n",
    "ax = sns.lineplot(x='time', y='value', hue='variable', \n",
    "             data=pd.melt(data_plot, ['time']), palette=palette)\n",
    "\n",
    "# ax = sns.lineplot(x=\"t\", y=\"roll\", data=data, legend='brief', label='x')\n",
    "# sns.lineplot(x=\"t\", y=\"pitch\", data=data, legend='brief', label='y')\n",
    "# sns.lineplot(x=\"t\", y=\"yaw\", data=data, legend='brief', label='z')\n",
    "\n",
    "# sns.lineplot(x=\"t\", y=\"roll\", data=data_, legend='brief', label=\"x'\")\n",
    "# sns.lineplot(x=\"t\", y=\"pitch\", data=data_, legend='brief', label=\"y'\")\n",
    "# sns.lineplot(x=\"t\", y=\"yaw\", data=data_, legend='brief', label=\"z'\")\n",
    "\n",
    "ax.set(xlabel='Timestamp (s)', ylabel='Angle (degrees)')\n",
    "plt.show()"
   ]
  },
  {
   "cell_type": "code",
   "execution_count": null,
   "metadata": {},
   "outputs": [],
   "source": []
  }
 ],
 "metadata": {
  "kernelspec": {
   "display_name": "Python 3.8.13 ('KinectStream')",
   "language": "python",
   "name": "python3"
  },
  "language_info": {
   "codemirror_mode": {
    "name": "ipython",
    "version": 3
   },
   "file_extension": ".py",
   "mimetype": "text/x-python",
   "name": "python",
   "nbconvert_exporter": "python",
   "pygments_lexer": "ipython3",
   "version": "3.7.10"
  },
  "orig_nbformat": 4,
  "vscode": {
   "interpreter": {
    "hash": "bde1b4ad2d471f992e71b8ec6ec3167cb4813823ccada7134b0b05f4e063ef32"
   }
  }
 },
 "nbformat": 4,
 "nbformat_minor": 2
}
