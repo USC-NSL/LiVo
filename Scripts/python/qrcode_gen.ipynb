{
 "cells": [
  {
   "cell_type": "code",
   "execution_count": null,
   "metadata": {},
   "outputs": [],
   "source": [
    "import json\n",
    "import os\n",
    "import cv2\n",
    "import numpy as np\n",
    "import io\n",
    "from PIL import Image\n",
    "import segno"
   ]
  },
  {
   "cell_type": "code",
   "execution_count": null,
   "metadata": {},
   "outputs": [],
   "source": [
    "config = json.load(open('/home/lei/rajrup/qr/KinectStream/Multiview/config/panoptic.json'))\n",
    "\n",
    "seqName = config['seq_name']\n",
    "inputdir = os.path.join(config['panoptic_path'], seqName)\n",
    "outputdir = os.path.join(config['panoptic_path'], \"qr\")\n",
    "\n",
    "if not os.path.exists(outputdir):\n",
    "    os.makedirs(outputdir)\n",
    "\n",
    "# temp = json.load(open(os.path.join(config['panoptic_path'], config['seq_start_end'])))\n",
    "# startFrame = temp[seqName]['start_idx']\n",
    "# endFrame = temp[seqName]['end_idx']\n",
    "\n",
    "startFrame = 0\n",
    "endFrame = 20000"
   ]
  },
  {
   "cell_type": "code",
   "execution_count": null,
   "metadata": {},
   "outputs": [],
   "source": [
    "# QR code params\n",
    "qrVersion = 4\n",
    "qrErrorCorrection = 'H' # L, M, H (Low, Medium, High)\n",
    "qrBorder = 4\n",
    "qrScale = 2\n",
    "\n",
    "# Only for view 0 for now\n",
    "for frameID in range(startFrame, endFrame+1):\n",
    "    print(\"Generating QR code for frame {}\".format(frameID))\n",
    "    \n",
    "    # Generate QR code\n",
    "    qrcode = segno.make(frameID, micro=False, version=qrVersion, error=qrErrorCorrection)\n",
    "    # qrcode.save(os.path.join(outputdir, \"{}_qrcode.png\".format(frameID)), border=4, scale=2, dark='#000000', light='#FFFFFF')\n",
    "    \n",
    "    # In-memory PIL object\n",
    "    out = io.BytesIO()\n",
    "    qrcode.save(out, border=qrBorder, scale=qrScale, dark='#000000', light='#FFFFFF', kind='png')\n",
    "    out.seek(0)\n",
    "    pil_img = Image.open(out)\n",
    "    # pil_img.save(os.path.join(outputdir, \"{}_qrcode.png\".format(frameID)), format='png')\n",
    "    # pil_img.save(os.path.join(outputdir, \"{}_qrcode.jpg\".format(frameID)), format='jpeg', quality=1)\n",
    "\n",
    "    cv2_img = np.array(pil_img) * 255.0\n",
    "    cv2.imwrite(os.path.join(outputdir, \"{}_qrcode.png\".format(frameID)), cv2_img)\n",
    "    # cv2.imwrite(os.path.join(outputdir, \"{}_qrcode.jpg\".format(frameID)), cv2_img, [int(cv2.IMWRITE_JPEG_QUALITY), 0])\n",
    "    \n",
    "    h, w = cv2_img.shape\n",
    "    borderOffset = qrBorder*qrScale\n",
    "    cv2_crop_img = cv2_img[borderOffset:h-borderOffset, borderOffset:w-borderOffset]\n",
    "    cv2.imwrite(os.path.join(outputdir, \"{}_qrcode_cropped.png\".format(frameID)), cv2_crop_img)\n",
    "    # cv2.imwrite(os.path.join(outputdir, \"{}_qrcode_cropped.jpg\".format(frameID)), cv2_crop_img, [int(cv2.IMWRITE_JPEG_QUALITY), 0])"
   ]
  },
  {
   "cell_type": "code",
   "execution_count": null,
   "metadata": {},
   "outputs": [],
   "source": []
  }
 ],
 "metadata": {
  "kernelspec": {
   "display_name": "kinectstream",
   "language": "python",
   "name": "python3"
  },
  "language_info": {
   "codemirror_mode": {
    "name": "ipython",
    "version": 3
   },
   "file_extension": ".py",
   "mimetype": "text/x-python",
   "name": "python",
   "nbconvert_exporter": "python",
   "pygments_lexer": "ipython3",
   "version": "3.8.16"
  },
  "orig_nbformat": 4
 },
 "nbformat": 4,
 "nbformat_minor": 2
}
