{
 "cells": [
  {
   "cell_type": "code",
   "execution_count": 3,
   "metadata": {},
   "outputs": [],
   "source": [
    "import cv2\n",
    "import numpy as np\n",
    "import matplotlib.pyplot as plt\n",
    "from skimage.metrics import *\n",
    "import os\n",
    "\n",
    "%matplotlib inline"
   ]
  },
  {
   "cell_type": "code",
   "execution_count": 4,
   "metadata": {},
   "outputs": [],
   "source": [
    "def calc_mse(img1, img2, axis=2):\n",
    "    img1 = img1.astype(np.float64)  # convert to float64 to avoid overflow\n",
    "    img2 = img2.astype(np.float64)  # convert to float64 to avoid overflow\n",
    "\n",
    "    if axis == 2:\n",
    "        mse_image = np.linalg.norm(img1 - img2, axis=axis) ** 2\n",
    "        num_channels = img1.shape[axis]\n",
    "        mse = np.mean(mse_image) / num_channels\n",
    "    elif axis == 0:\n",
    "        mse_image = (img1 - img2) ** 2\n",
    "        mse = np.mean(mse_image)\n",
    "    else:\n",
    "        raise ValueError(\"axis must be 0 or 2\")\n",
    "    return mse, mse_image\n",
    "\n",
    "\n",
    "def calc_mse_skimage(img1, img2):\n",
    "    return mean_squared_error(img1, img2)\n",
    "\n",
    "\n",
    "def calc_ssim(img1, img2, axis=2):\n",
    "    mean_ssim, grad, ssim_image = structural_similarity(\n",
    "        img1, img2, channel_axis=axis, gradient=True, full=True\n",
    "    )\n",
    "    return mean_ssim, grad, ssim_image\n",
    "\n",
    "\n",
    "def calc_psnr(img1, img2, max_pixel_value=255, axis=2):\n",
    "    mse, _ = calc_mse(img1, img2, axis=axis)\n",
    "    psnr = 10 * np.log10(max_pixel_value**2 / mse)\n",
    "    return psnr\n",
    "\n",
    "\n",
    "def calc_psnr_skimage(img1, img2):\n",
    "    return peak_signal_noise_ratio(img1, img2)"
   ]
  },
  {
   "cell_type": "code",
   "execution_count": 5,
   "metadata": {},
   "outputs": [],
   "source": [
    "# gt_dir = \"/datassd/KinectStream/panoptic_data/160906_band2_with_ground/\"\n",
    "# dist_dir = \"/home/lei/data/pipeline/client_tiled/pipeline_new/test/\"\n",
    "\n",
    "gt_dir = \"/datassd/KinectStream/panoptic_data/160906_band2_with_ground/kpculled_views_logID_1\"\n",
    "dist_dir = (\n",
    "    \"/datassd/KinectStream/panoptic_data/160906_band2_with_ground/kpculled_views2_logID_1\"\n",
    ")"
   ]
  },
  {
   "cell_type": "code",
   "execution_count": 6,
   "metadata": {},
   "outputs": [
    {
     "name": "stderr",
     "output_type": "stream",
     "text": [
      "/tmp/ipykernel_23276/3900798177.py:30: RuntimeWarning: divide by zero encountered in double_scalars\n",
      "  psnr = 10 * np.log10(max_pixel_value**2 / mse)\n",
      "/home/lei/.local/lib/python3.8/site-packages/skimage/metrics/simple_metrics.py:163: RuntimeWarning: divide by zero encountered in double_scalars\n",
      "  return 10 * np.log10((data_range ** 2) / err)\n"
     ]
    },
    {
     "name": "stdout",
     "output_type": "stream",
     "text": [
      "MSE: 0.0, MSE skimage: 0.0, MSE cv2: 0.0, PSNR: inf, PSNR skimage: inf SSIM: 1.0\n",
      "MSE: 0.0, MSE skimage: 0.0, MSE cv2: 0.0, PSNR: inf, PSNR skimage: inf SSIM: 1.0\n",
      "MSE: 0.0, MSE skimage: 0.0, MSE cv2: 0.0, PSNR: inf, PSNR skimage: inf SSIM: 1.0\n",
      "MSE: 0.0, MSE skimage: 0.0, MSE cv2: 0.0, PSNR: inf, PSNR skimage: inf SSIM: 1.0\n",
      "MSE: 0.0, MSE skimage: 0.0, MSE cv2: 0.0, PSNR: inf, PSNR skimage: inf SSIM: 1.0\n",
      "MSE: 0.0, MSE skimage: 0.0, MSE cv2: 0.0, PSNR: inf, PSNR skimage: inf SSIM: 1.0\n",
      "MSE: 0.0, MSE skimage: 0.0, MSE cv2: 0.0, PSNR: inf, PSNR skimage: inf SSIM: 1.0\n",
      "MSE: 0.0, MSE skimage: 0.0, MSE cv2: 0.0, PSNR: inf, PSNR skimage: inf SSIM: 1.0\n",
      "MSE: 0.0, MSE skimage: 0.0, MSE cv2: 0.0, PSNR: inf, PSNR skimage: inf SSIM: 1.0\n",
      "MSE: 0.0, MSE skimage: 0.0, MSE cv2: 0.0, PSNR: inf, PSNR skimage: inf SSIM: 1.0\n",
      "Mean RMSE: 0.0, Mean RMSE cv2: 0.0\n"
     ]
    }
   ],
   "source": [
    "# Check RMSE for color images\n",
    "frame_id = 2\n",
    "nViews = 10\n",
    "total_mse = 0.0\n",
    "total_mse_cv2 = 0.0\n",
    "\n",
    "height = 0\n",
    "width = 0\n",
    "for i in range(0, nViews):\n",
    "    gt = cv2.imread(\n",
    "        os.path.join(gt_dir, \"color\", f\"{frame_id}_color_{i}.png\"), cv2.IMREAD_COLOR\n",
    "    )\n",
    "    # dist = cv2.imread(\n",
    "    #     os.path.join(dist_dir, f\"{frame_id}_dist_color_{i}.png\"), cv2.IMREAD_COLOR\n",
    "    # )\n",
    "    dist = cv2.imread(\n",
    "        os.path.join(dist_dir, \"color\", f\"{frame_id}_color_{i}.png\"), cv2.IMREAD_COLOR\n",
    "    )\n",
    "\n",
    "    height = gt.shape[0]\n",
    "    width = gt.shape[1]\n",
    "\n",
    "    mse, mse_image = calc_mse(gt, dist)\n",
    "    mse_skimage = calc_mse_skimage(gt, dist)\n",
    "    psnr = calc_psnr(gt, dist)\n",
    "    psnr_skimage = calc_psnr_skimage(gt, dist)\n",
    "    ssim, _, _ = calc_ssim(gt, dist)\n",
    "\n",
    "    diff = cv2.absdiff(dist, gt)\n",
    "    diff = diff.astype(np.float32)\n",
    "    diff = cv2.pow(diff, 2, diff)\n",
    "    mse_cv2 = np.sum(cv2.mean(diff)) / 3\n",
    "\n",
    "    print(\n",
    "        f\"MSE: {mse}, MSE skimage: {mse_skimage}, MSE cv2: {mse_cv2}, PSNR: {psnr}, PSNR skimage: {psnr_skimage}\",\n",
    "        f\"SSIM: {ssim}\",\n",
    "    )\n",
    "    total_mse += mse\n",
    "    total_mse_cv2 += mse_cv2\n",
    "\n",
    "mean_rmse = np.sqrt(total_mse / nViews)\n",
    "mean_rmse_cv2 = np.sqrt(total_mse_cv2 / nViews)\n",
    "print(f\"Mean RMSE: {mean_rmse}, Mean RMSE cv2: {mean_rmse_cv2}\")"
   ]
  },
  {
   "cell_type": "code",
   "execution_count": 7,
   "metadata": {},
   "outputs": [
    {
     "name": "stderr",
     "output_type": "stream",
     "text": [
      "/tmp/ipykernel_23276/3900798177.py:30: RuntimeWarning: divide by zero encountered in double_scalars\n",
      "  psnr = 10 * np.log10(max_pixel_value**2 / mse)\n"
     ]
    },
    {
     "name": "stdout",
     "output_type": "stream",
     "text": [
      "MSE: 0.0, MSE skimage: 0.0, MSE cv2: 0.0, PSNR: inf, PSNR skimage: inf SSIM: 1.0\n",
      "MSE: 0.0, MSE skimage: 0.0, MSE cv2: 0.0, PSNR: inf, PSNR skimage: inf SSIM: 1.0\n",
      "MSE: 0.0, MSE skimage: 0.0, MSE cv2: 0.0, PSNR: inf, PSNR skimage: inf SSIM: 1.0\n",
      "MSE: 0.0, MSE skimage: 0.0, MSE cv2: 0.0, PSNR: inf, PSNR skimage: inf SSIM: 1.0\n",
      "MSE: 0.0, MSE skimage: 0.0, MSE cv2: 0.0, PSNR: inf, PSNR skimage: inf SSIM: 1.0\n",
      "MSE: 0.0, MSE skimage: 0.0, MSE cv2: 0.0, PSNR: inf, PSNR skimage: inf SSIM: 1.0\n",
      "MSE: 0.0, MSE skimage: 0.0, MSE cv2: 0.0, PSNR: inf, PSNR skimage: inf SSIM: 1.0\n",
      "MSE: 0.0, MSE skimage: 0.0, MSE cv2: 0.0, PSNR: inf, PSNR skimage: inf SSIM: 1.0\n",
      "MSE: 0.0, MSE skimage: 0.0, MSE cv2: 0.0, PSNR: inf, PSNR skimage: inf SSIM: 1.0\n",
      "MSE: 0.0, MSE skimage: 0.0, MSE cv2: 0.0, PSNR: inf, PSNR skimage: inf SSIM: 1.0\n",
      "Mean RMSE: 0.0, Mean RMSE cv2: 0.0\n"
     ]
    }
   ],
   "source": [
    "# Check RMSE for depth images\n",
    "total_mse = 0.0\n",
    "total_mse_cv2 = 0.0\n",
    "\n",
    "for i in range(0, nViews):\n",
    "    gt = cv2.imread(\n",
    "        os.path.join(gt_dir, \"depth\", f\"{frame_id}_depth_{i}.png\"), cv2.IMREAD_UNCHANGED\n",
    "    )\n",
    "    # dist = cv2.imread(\n",
    "    #     os.path.join(dist_dir, f\"{frame_id}_dist_depth_{i}.png\"), cv2.IMREAD_UNCHANGED\n",
    "    # )\n",
    "\n",
    "    dist = cv2.imread(\n",
    "        os.path.join(dist_dir, \"depth\", f\"{frame_id}_depth_{i}.png\"),\n",
    "        cv2.IMREAD_UNCHANGED,\n",
    "    )\n",
    "\n",
    "    mse, mse_image = calc_mse(gt, dist, axis=0)\n",
    "    mse_skimage = calc_mse_skimage(gt, dist)\n",
    "    psnr = calc_psnr(gt, dist, max_pixel_value=65535, axis=0)\n",
    "    psnr_skimage = calc_psnr_skimage(gt, dist)\n",
    "    ssim, _, _ = calc_ssim(gt, dist, axis=0)\n",
    "\n",
    "    diff = cv2.absdiff(dist, gt)\n",
    "    diff = diff.astype(np.float32)\n",
    "    diff = cv2.pow(diff, 2, diff)\n",
    "    mse_cv2 = np.sum(cv2.mean(diff))\n",
    "\n",
    "    print(\n",
    "        f\"MSE: {mse}, MSE skimage: {mse_skimage}, MSE cv2: {mse_cv2}, PSNR: {psnr}, PSNR skimage: {psnr_skimage}\",\n",
    "        f\"SSIM: {ssim}\",\n",
    "    )\n",
    "    total_mse += mse\n",
    "    total_mse_cv2 += mse_cv2\n",
    "\n",
    "mean_rmse = np.sqrt(total_mse / nViews)\n",
    "mean_rmse_cv2 = np.sqrt(total_mse_cv2 / nViews)\n",
    "print(f\"Mean RMSE: {mean_rmse}, Mean RMSE cv2: {mean_rmse_cv2}\")"
   ]
  },
  {
   "cell_type": "code",
   "execution_count": null,
   "metadata": {},
   "outputs": [],
   "source": []
  }
 ],
 "metadata": {
  "kernelspec": {
   "display_name": "KinectStream",
   "language": "python",
   "name": "python3"
  },
  "language_info": {
   "codemirror_mode": {
    "name": "ipython",
    "version": 3
   },
   "file_extension": ".py",
   "mimetype": "text/x-python",
   "name": "python",
   "nbconvert_exporter": "python",
   "pygments_lexer": "ipython3",
   "version": "3.8.16"
  }
 },
 "nbformat": 4,
 "nbformat_minor": 2
}
