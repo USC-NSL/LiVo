{
 "cells": [
  {
   "cell_type": "code",
   "execution_count": 1,
   "metadata": {},
   "outputs": [],
   "source": [
    "import os\n",
    "import cv2\n",
    "import numpy as np\n",
    "import matplotlib.pyplot as plt\n",
    "\n",
    "%matplotlib inline"
   ]
  },
  {
   "cell_type": "code",
   "execution_count": 2,
   "metadata": {},
   "outputs": [],
   "source": [
    "# seq_name = \"160906_band2_with_ground\"\n",
    "# logID = 1\n",
    "# START_FRAME=2\n",
    "# END_FRAME=5517\n",
    "\n",
    "# seq_name = \"170307_dance5_with_ground\"\n",
    "# logID = 0\n",
    "# START_FRAME=34\n",
    "# END_FRAME=10000\n",
    "\n",
    "# seq_name=\"170915_office1_with_ground\"\n",
    "# logID = 2\n",
    "# START_FRAME=19\n",
    "# END_FRAME=5600\n",
    "\n",
    "# seq_name=\"160906_pizza1_with_ground\"\n",
    "# logID = 1\n",
    "# START_FRAME=1\n",
    "# END_FRAME=1413\n",
    "\n",
    "seq_name=\"170915_toddler4_with_ground\"\n",
    "logID = 0\n",
    "START_FRAME=1\n",
    "END_FRAME=3800"
   ]
  },
  {
   "cell_type": "code",
   "execution_count": 3,
   "metadata": {},
   "outputs": [],
   "source": [
    "output_path = os.path.join(\"/datassd/pipeline_ptcl/client_ptcl\", seq_name, \"o3d_gt_with_ground\", f\"log{logID}\")\n",
    "\n",
    "FPS = 30\n",
    "\n",
    "start_img_path = os.path.join(output_path, f\"{START_FRAME}.png\")\n",
    "if not os.path.exists(start_img_path):\n",
    "    filelist = os.listdir(output_path)\n",
    "    filelist.sort()\n",
    "    start_img_path = os.path.join(output_path, filelist[0])\n",
    "img = cv2.imread(start_img_path)\n",
    "height, width, _ = img.shape"
   ]
  },
  {
   "cell_type": "code",
   "execution_count": 4,
   "metadata": {},
   "outputs": [
    {
     "name": "stdout",
     "output_type": "stream",
     "text": [
      "Video saved at /datassd/pipeline_ptcl/client_ptcl/170915_toddler4_with_ground/o3d_gt_with_ground/log0/video_gt_log0.mp4\n"
     ]
    }
   ],
   "source": [
    "# Read images from the output path and write to video at specified FPS\n",
    "\n",
    "fourcc = cv2.VideoWriter_fourcc(*'mp4v')\n",
    "out_video_path = os.path.join(output_path, f\"video_gt_log{logID}.mp4\")\n",
    "out = cv2.VideoWriter(out_video_path, fourcc, FPS, (width, height))\n",
    "\n",
    "for i in range(START_FRAME+1, END_FRAME+1):\n",
    "    frame_path = os.path.join(output_path, f\"{i}.png\")\n",
    "    if not os.path.exists(frame_path):\n",
    "        out.write(img)\n",
    "        continue\n",
    "    img = cv2.imread(os.path.join(output_path, f\"{i}.png\"))\n",
    "    out.write(img)\n",
    "\n",
    "out.release()\n",
    "print(f\"Video saved at {out_video_path}\")"
   ]
  },
  {
   "cell_type": "code",
   "execution_count": null,
   "metadata": {},
   "outputs": [],
   "source": []
  }
 ],
 "metadata": {
  "kernelspec": {
   "display_name": "KinectStream",
   "language": "python",
   "name": "python3"
  },
  "language_info": {
   "codemirror_mode": {
    "name": "ipython",
    "version": 3
   },
   "file_extension": ".py",
   "mimetype": "text/x-python",
   "name": "python",
   "nbconvert_exporter": "python",
   "pygments_lexer": "ipython3",
   "version": "3.8.17"
  }
 },
 "nbformat": 4,
 "nbformat_minor": 2
}
